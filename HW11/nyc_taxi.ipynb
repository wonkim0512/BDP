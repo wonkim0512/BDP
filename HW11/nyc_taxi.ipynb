{
 "cells": [
  {
   "cell_type": "code",
   "execution_count": 1,
   "metadata": {
    "collapsed": true
   },
   "outputs": [],
   "source": [
    "import numpy as np\n",
    "import pandas as pd\n",
    "import matplotlib.pyplot as plt\n",
    "\n",
    "%matplotlib inline"
   ]
  },
  {
   "cell_type": "code",
   "execution_count": 2,
   "metadata": {},
   "outputs": [],
   "source": [
    "data = pd.read_csv(\"nyc_data.csv\")"
   ]
  },
  {
   "cell_type": "code",
   "execution_count": 3,
   "metadata": {},
   "outputs": [
    {
     "data": {
      "text/html": [
       "<div>\n",
       "<style>\n",
       "    .dataframe thead tr:only-child th {\n",
       "        text-align: right;\n",
       "    }\n",
       "\n",
       "    .dataframe thead th {\n",
       "        text-align: left;\n",
       "    }\n",
       "\n",
       "    .dataframe tbody tr th {\n",
       "        vertical-align: top;\n",
       "    }\n",
       "</style>\n",
       "<table border=\"1\" class=\"dataframe\">\n",
       "  <thead>\n",
       "    <tr style=\"text-align: right;\">\n",
       "      <th></th>\n",
       "      <th>medallion</th>\n",
       "      <th>hack_license</th>\n",
       "      <th>vendor_id</th>\n",
       "      <th>rate_code</th>\n",
       "      <th>store_and_fwd_flag</th>\n",
       "      <th>pickup_datetime</th>\n",
       "      <th>dropoff_datetime</th>\n",
       "      <th>passenger_count</th>\n",
       "      <th>trip_time_in_secs</th>\n",
       "      <th>trip_distance</th>\n",
       "      <th>pickup_longitude</th>\n",
       "      <th>pickup_latitude</th>\n",
       "      <th>dropoff_longitude</th>\n",
       "      <th>dropoff_latitude</th>\n",
       "    </tr>\n",
       "  </thead>\n",
       "  <tbody>\n",
       "    <tr>\n",
       "      <th>854053</th>\n",
       "      <td>D225B988186CB582C18391E1FE074B93</td>\n",
       "      <td>AE8F0E4642C61B014FB2E2658B83E98D</td>\n",
       "      <td>VTS</td>\n",
       "      <td>1</td>\n",
       "      <td>NaN</td>\n",
       "      <td>2013-01-15 8:53</td>\n",
       "      <td>2013-01-15 8:56</td>\n",
       "      <td>1</td>\n",
       "      <td>180</td>\n",
       "      <td>0.59</td>\n",
       "      <td>-73.986443</td>\n",
       "      <td>40.761776</td>\n",
       "      <td>-73.977486</td>\n",
       "      <td>40.033333</td>\n",
       "    </tr>\n",
       "    <tr>\n",
       "      <th>854054</th>\n",
       "      <td>C5140F6132BF157F7148A1FBDA2D47CE</td>\n",
       "      <td>5DEA778256AE9E0E76C391DE87FF3748</td>\n",
       "      <td>VTS</td>\n",
       "      <td>1</td>\n",
       "      <td>NaN</td>\n",
       "      <td>2013-01-15 18:18</td>\n",
       "      <td>2013-01-15 18:59</td>\n",
       "      <td>1</td>\n",
       "      <td>2460</td>\n",
       "      <td>19.19</td>\n",
       "      <td>-73.806664</td>\n",
       "      <td>40.653084</td>\n",
       "      <td>-73.984390</td>\n",
       "      <td>40.033333</td>\n",
       "    </tr>\n",
       "    <tr>\n",
       "      <th>854055</th>\n",
       "      <td>371C33EDD828B220ED89DB7B4256EA39</td>\n",
       "      <td>FAAC8812975EAB585B5A531C7DCEADD0</td>\n",
       "      <td>VTS</td>\n",
       "      <td>1</td>\n",
       "      <td>NaN</td>\n",
       "      <td>2013-01-15 22:51</td>\n",
       "      <td>2013-01-15 22:57</td>\n",
       "      <td>2</td>\n",
       "      <td>360</td>\n",
       "      <td>1.13</td>\n",
       "      <td>-74.232643</td>\n",
       "      <td>41.184307</td>\n",
       "      <td>-74.954437</td>\n",
       "      <td>39.817966</td>\n",
       "    </tr>\n",
       "    <tr>\n",
       "      <th>854056</th>\n",
       "      <td>371C33EDD828B220ED89DB7B4256EA39</td>\n",
       "      <td>FAAC8812975EAB585B5A531C7DCEADD0</td>\n",
       "      <td>VTS</td>\n",
       "      <td>1</td>\n",
       "      <td>NaN</td>\n",
       "      <td>2013-01-16 0:08</td>\n",
       "      <td>2013-01-16 0:15</td>\n",
       "      <td>2</td>\n",
       "      <td>420</td>\n",
       "      <td>1.68</td>\n",
       "      <td>-74.916664</td>\n",
       "      <td>39.696663</td>\n",
       "      <td>-74.916664</td>\n",
       "      <td>39.696663</td>\n",
       "    </tr>\n",
       "    <tr>\n",
       "      <th>854057</th>\n",
       "      <td>3074074E572AC65D2B2658DF7D9EFEFA</td>\n",
       "      <td>F2C09E96021763962A2B957CCB6159C6</td>\n",
       "      <td>VTS</td>\n",
       "      <td>1</td>\n",
       "      <td>NaN</td>\n",
       "      <td>2013-01-13 20:26</td>\n",
       "      <td>2013-01-13 20:28</td>\n",
       "      <td>5</td>\n",
       "      <td>120</td>\n",
       "      <td>0.32</td>\n",
       "      <td>-73.981148</td>\n",
       "      <td>40.772778</td>\n",
       "      <td>-73.978325</td>\n",
       "      <td>37.816666</td>\n",
       "    </tr>\n",
       "  </tbody>\n",
       "</table>\n",
       "</div>"
      ],
      "text/plain": [
       "                               medallion                      hack_license  \\\n",
       "854053  D225B988186CB582C18391E1FE074B93  AE8F0E4642C61B014FB2E2658B83E98D   \n",
       "854054  C5140F6132BF157F7148A1FBDA2D47CE  5DEA778256AE9E0E76C391DE87FF3748   \n",
       "854055  371C33EDD828B220ED89DB7B4256EA39  FAAC8812975EAB585B5A531C7DCEADD0   \n",
       "854056  371C33EDD828B220ED89DB7B4256EA39  FAAC8812975EAB585B5A531C7DCEADD0   \n",
       "854057  3074074E572AC65D2B2658DF7D9EFEFA  F2C09E96021763962A2B957CCB6159C6   \n",
       "\n",
       "       vendor_id  rate_code store_and_fwd_flag   pickup_datetime  \\\n",
       "854053       VTS          1                NaN   2013-01-15 8:53   \n",
       "854054       VTS          1                NaN  2013-01-15 18:18   \n",
       "854055       VTS          1                NaN  2013-01-15 22:51   \n",
       "854056       VTS          1                NaN   2013-01-16 0:08   \n",
       "854057       VTS          1                NaN  2013-01-13 20:26   \n",
       "\n",
       "        dropoff_datetime  passenger_count  trip_time_in_secs  trip_distance  \\\n",
       "854053   2013-01-15 8:56                1                180           0.59   \n",
       "854054  2013-01-15 18:59                1               2460          19.19   \n",
       "854055  2013-01-15 22:57                2                360           1.13   \n",
       "854056   2013-01-16 0:15                2                420           1.68   \n",
       "854057  2013-01-13 20:28                5                120           0.32   \n",
       "\n",
       "        pickup_longitude  pickup_latitude  dropoff_longitude  dropoff_latitude  \n",
       "854053        -73.986443        40.761776         -73.977486         40.033333  \n",
       "854054        -73.806664        40.653084         -73.984390         40.033333  \n",
       "854055        -74.232643        41.184307         -74.954437         39.817966  \n",
       "854056        -74.916664        39.696663         -74.916664         39.696663  \n",
       "854057        -73.981148        40.772778         -73.978325         37.816666  "
      ]
     },
     "execution_count": 3,
     "metadata": {},
     "output_type": "execute_result"
    }
   ],
   "source": [
    "data.tail()"
   ]
  },
  {
   "cell_type": "code",
   "execution_count": 4,
   "metadata": {},
   "outputs": [
    {
     "data": {
      "text/plain": [
       "Index(['medallion', 'hack_license', 'vendor_id', 'rate_code',\n",
       "       'store_and_fwd_flag', 'pickup_datetime', 'dropoff_datetime',\n",
       "       'passenger_count', 'trip_time_in_secs', 'trip_distance',\n",
       "       'pickup_longitude', 'pickup_latitude', 'dropoff_longitude',\n",
       "       'dropoff_latitude'],\n",
       "      dtype='object')"
      ]
     },
     "execution_count": 4,
     "metadata": {},
     "output_type": "execute_result"
    }
   ],
   "source": [
    "data.columns"
   ]
  },
  {
   "cell_type": "code",
   "execution_count": 5,
   "metadata": {},
   "outputs": [
    {
     "data": {
      "text/plain": [
       "854053    40.761776\n",
       "854054    40.653084\n",
       "854055    41.184307\n",
       "854056    39.696663\n",
       "854057    40.772778\n",
       "Name: pickup_latitude, dtype: float64"
      ]
     },
     "execution_count": 5,
     "metadata": {},
     "output_type": "execute_result"
    }
   ],
   "source": [
    "p_lat = data.pickup_latitude\n",
    "p_long = data.pickup_longitude\n",
    "d_lat = data.dropoff_latitude\n",
    "d_long = data.dropoff_longitude\n",
    "p_lat.tail()"
   ]
  },
  {
   "cell_type": "code",
   "execution_count": 6,
   "metadata": {
    "collapsed": true
   },
   "outputs": [],
   "source": [
    "def lat_long_to_pixels(lat, long):\n",
    "    lat_rad = lat * np.pi / 180.0\n",
    "    lat_rad = np.log(np.tan((lat_rad + np.pi/2.0)/2.0))\n",
    "    x = 100*(long + 180.0) / 360.0\n",
    "    y = 100*(lat_rad - np.pi) / (2.0 * np.pi)\n",
    "    return (x,y)"
   ]
  },
  {
   "cell_type": "code",
   "execution_count": 7,
   "metadata": {},
   "outputs": [
    {
     "data": {
      "text/plain": [
       "854053    29.448210\n",
       "854054    29.498149\n",
       "854055    29.379821\n",
       "854056    29.189816\n",
       "854057    29.449681\n",
       "Name: pickup_longitude, dtype: float64"
      ]
     },
     "execution_count": 7,
     "metadata": {},
     "output_type": "execute_result"
    }
   ],
   "source": [
    "px, py = lat_long_to_pixels(p_lat, p_long)\n",
    "px.tail()"
   ]
  },
  {
   "cell_type": "code",
   "execution_count": 8,
   "metadata": {},
   "outputs": [
    {
     "data": {
      "text/plain": [
       "(854058, 28.77314888888889, 30.976852777777776)"
      ]
     },
     "execution_count": 8,
     "metadata": {},
     "output_type": "execute_result"
    }
   ],
   "source": [
    "px.count(), px.min(), px.max()"
   ]
  },
  {
   "cell_type": "code",
   "execution_count": 9,
   "metadata": {},
   "outputs": [
    {
     "data": {
      "text/plain": [
       "(29.451623324138406, 29.44958583333333, 0.01085728154629855)"
      ]
     },
     "execution_count": 9,
     "metadata": {},
     "output_type": "execute_result"
    }
   ],
   "source": [
    "px.mean(), px.median(), px.std()"
   ]
  },
  {
   "cell_type": "code",
   "execution_count": 10,
   "metadata": {},
   "outputs": [
    {
     "data": {
      "text/plain": [
       "<matplotlib.collections.PathCollection at 0x7f04b1e247f0>"
      ]
     },
     "execution_count": 10,
     "metadata": {},
     "output_type": "execute_result"
    },
    {
     "data": {
      "image/png": "[encoded data removed]",
      "text/plain": [
       "<matplotlib.figure.Figure at 0x7f04b24d62b0>"
      ]
     },
     "metadata": {},
     "output_type": "display_data"
    }
   ],
   "source": [
    "plt.scatter(px, py)"
   ]
  },
  {
   "cell_type": "code",
   "execution_count": 11,
   "metadata": {},
   "outputs": [
    {
     "data": {
      "image/png": "[encoded data removed]",
      "text/plain": [
       "<matplotlib.figure.Figure at 0x7f04b1db7240>"
      ]
     },
     "metadata": {},
     "output_type": "display_data"
    }
   ],
   "source": [
    "plt.figure(figsize = (8,6))\n",
    "plt.scatter(px, py, s = 0.1, alpha = 0.03)\n",
    "plt.axis(\"equal\")\n",
    "plt.xlim(29.40, 29.53)\n",
    "plt.ylim(-37.65, -37.525)\n",
    "plt.show()"
   ]
  },
  {
   "cell_type": "code",
   "execution_count": null,
   "metadata": {
    "collapsed": true
   },
   "outputs": [],
   "source": []
  }
 ],
 "metadata": {
  "kernelspec": {
   "display_name": "Python 3",
   "language": "python",
   "name": "python3"
  },
  "language_info": {
   "codemirror_mode": {
    "name": "ipython",
    "version": 3
   },
   "file_extension": ".py",
   "mimetype": "text/x-python",
   "name": "python",
   "nbconvert_exporter": "python",
   "pygments_lexer": "ipython3",
   "version": "3.6.1"
  }
 },
 "nbformat": 4,
 "nbformat_minor": 2
}
