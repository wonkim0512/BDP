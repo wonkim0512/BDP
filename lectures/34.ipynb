{
 "cells": [
  {
   "cell_type": "code",
   "execution_count": 6,
   "metadata": {
    "collapsed": true
   },
   "outputs": [],
   "source": [
    "import nltk\n",
    "from nltk.corpus import gutenberg"
   ]
  },
  {
   "cell_type": "code",
   "execution_count": 7,
   "metadata": {},
   "outputs": [],
   "source": [
    "#nltk.download()"
   ]
  },
  {
   "cell_type": "code",
   "execution_count": 8,
   "metadata": {},
   "outputs": [
    {
     "data": {
      "text/plain": [
       "['austen-emma.txt',\n",
       " 'austen-persuasion.txt',\n",
       " 'austen-sense.txt',\n",
       " 'bible-kjv.txt',\n",
       " 'blake-poems.txt',\n",
       " 'bryant-stories.txt',\n",
       " 'burgess-busterbrown.txt',\n",
       " 'carroll-alice.txt',\n",
       " 'chesterton-ball.txt',\n",
       " 'chesterton-brown.txt',\n",
       " 'chesterton-thursday.txt',\n",
       " 'edgeworth-parents.txt',\n",
       " 'melville-moby_dick.txt',\n",
       " 'milton-paradise.txt',\n",
       " 'shakespeare-caesar.txt',\n",
       " 'shakespeare-hamlet.txt',\n",
       " 'shakespeare-macbeth.txt',\n",
       " 'whitman-leaves.txt']"
      ]
     },
     "execution_count": 8,
     "metadata": {},
     "output_type": "execute_result"
    }
   ],
   "source": [
    "gutenberg.fileids()"
   ]
  },
  {
   "cell_type": "code",
   "execution_count": 13,
   "metadata": {},
   "outputs": [
    {
     "data": {
      "text/plain": [
       "162881"
      ]
     },
     "execution_count": 13,
     "metadata": {},
     "output_type": "execute_result"
    }
   ],
   "source": [
    "len(gutenberg.raw('shakespeare-hamlet.txt'))"
   ]
  },
  {
   "cell_type": "code",
   "execution_count": 14,
   "metadata": {},
   "outputs": [
    {
     "data": {
      "text/plain": [
       "37360"
      ]
     },
     "execution_count": 14,
     "metadata": {},
     "output_type": "execute_result"
    }
   ],
   "source": [
    "len(gutenberg.words('shakespeare-hamlet.txt'))"
   ]
  },
  {
   "cell_type": "code",
   "execution_count": 15,
   "metadata": {},
   "outputs": [
    {
     "data": {
      "text/plain": [
       "3106"
      ]
     },
     "execution_count": 15,
     "metadata": {},
     "output_type": "execute_result"
    }
   ],
   "source": [
    "len(gutenberg.sents('shakespeare-hamlet.txt'))"
   ]
  },
  {
   "cell_type": "code",
   "execution_count": 16,
   "metadata": {
    "collapsed": true
   },
   "outputs": [],
   "source": [
    "hamlet = gutenberg.sents('shakespeare-hamlet.txt')"
   ]
  },
  {
   "cell_type": "code",
   "execution_count": 19,
   "metadata": {},
   "outputs": [
    {
     "name": "stdout",
     "output_type": "stream",
     "text": [
      "['[', 'The', 'Tragedie', 'of', 'Hamlet', 'by', 'William', 'Shakespeare', '1599', ']']\n",
      "['Actus', 'Primus', '.']\n",
      "['Scoena', 'Prima', '.']\n",
      "['Enter', 'Barnardo', 'and', 'Francisco', 'two', 'Centinels', '.']\n",
      "['Barnardo', '.']\n",
      "['Who', \"'\", 's', 'there', '?']\n",
      "['Fran', '.']\n",
      "['Nay', 'answer', 'me', ':', 'Stand', '&', 'vnfold', 'your', 'selfe']\n",
      "['Bar', '.']\n",
      "['Long', 'liue', 'the', 'King']\n",
      "['Fran', '.']\n",
      "['Barnardo', '?']\n",
      "['Bar', '.']\n",
      "['He']\n",
      "['Fran', '.']\n",
      "['You', 'come', 'most', 'carefully', 'vpon', 'your', 'houre']\n",
      "['Bar', '.']\n",
      "[\"'\", 'Tis', 'now', 'strook', 'twelue', ',', 'get', 'thee', 'to', 'bed', 'Francisco']\n",
      "['Fran', '.']\n",
      "['For', 'this', 'releefe', 'much', 'thankes', ':', \"'\", 'Tis', 'bitter', 'cold', ',', 'And', 'I', 'am', 'sicke', 'at', 'heart']\n",
      "['Barn', '.']\n",
      "['Haue', 'you', 'had', 'quiet', 'Guard', '?']\n",
      "['Fran', '.']\n",
      "['Not', 'a', 'Mouse', 'stirring']\n",
      "['Barn', '.']\n",
      "['Well', ',', 'goodnight', '.']\n",
      "['If', 'you', 'do', 'meet', 'Horatio', 'and', 'Marcellus', ',', 'the', 'Riuals', 'of', 'my', 'Watch', ',', 'bid', 'them', 'make', 'hast', '.']\n",
      "['Enter', 'Horatio', 'and', 'Marcellus', '.']\n",
      "['Fran', '.']\n",
      "['I', 'thinke', 'I', 'heare', 'them', '.']\n",
      "['Stand', ':', 'who', \"'\", 's', 'there', '?']\n",
      "['Hor', '.']\n",
      "['Friends', 'to', 'this', 'ground']\n",
      "['Mar', '.']\n",
      "['And', 'Leige', '-', 'men', 'to', 'the', 'Dane']\n",
      "['Fran', '.']\n",
      "['Giue', 'you', 'good', 'night']\n",
      "['Mar', '.']\n",
      "['O', 'farwel', 'honest', 'Soldier', ',', 'who', 'hath', 'relieu', \"'\", 'd', 'you', '?']\n",
      "['Fra', '.']\n",
      "['Barnardo', 'ha', \"'\", 's', 'my', 'place', ':', 'giue', 'you', 'goodnight', '.']\n",
      "['Exit', 'Fran', '.']\n",
      "['Mar', '.']\n",
      "['Holla', 'Barnardo']\n",
      "['Bar', '.']\n",
      "['Say', ',', 'what', 'is', 'Horatio', 'there', '?']\n",
      "['Hor', '.']\n",
      "['A', 'peece', 'of', 'him']\n",
      "['Bar', '.']\n",
      "['Welcome', 'Horatio', ',', 'welcome', 'good', 'Marcellus']\n",
      "['Mar', '.']\n",
      "['What', ',', 'ha', \"'\", 's', 'this', 'thing', 'appear', \"'\", 'd', 'againe', 'to', 'night']\n",
      "['Bar', '.']\n",
      "['I', 'haue', 'seene', 'nothing']\n",
      "['Mar', '.']\n",
      "['Horatio', 'saies', ',', \"'\", 'tis', 'but', 'our', 'Fantasie', ',', 'And', 'will', 'not', 'let', 'beleefe', 'take', 'hold', 'of', 'him', 'Touching', 'this', 'dreaded', 'sight', ',', 'twice', 'seene', 'of', 'vs', ',', 'Therefore', 'I', 'haue', 'intreated', 'him', 'along', 'With', 'vs', ',', 'to', 'watch', 'the', 'minutes', 'of', 'this', 'Night', ',', 'That', 'if', 'againe', 'this', 'Apparition', 'come', ',', 'He', 'may', 'approue', 'our', 'eyes', ',', 'and', 'speake', 'to', 'it']\n",
      "['Hor', '.']\n",
      "['Tush', ',', 'tush', ',', \"'\", 'twill', 'not', 'appeare']\n",
      "['Bar', '.']\n",
      "['Sit', 'downe', 'a', '-', 'while', ',', 'And', 'let', 'vs', 'once', 'againe', 'assaile', 'your', 'eares', ',', 'That', 'are', 'so', 'fortified', 'against', 'our', 'Story', ',', 'What', 'we', 'two', 'Nights', 'haue', 'seene']\n",
      "['Hor', '.']\n",
      "['Well', ',', 'sit', 'we', 'downe', ',', 'And', 'let', 'vs', 'heare', 'Barnardo', 'speake', 'of', 'this']\n",
      "['Barn', '.']\n",
      "['Last', 'night', 'of', 'all', ',', 'When', 'yond', 'same', 'Starre', 'that', \"'\", 's', 'Westward', 'from', 'the', 'Pole', 'Had', 'made', 'his', 'course', 't', \"'\", 'illume', 'that', 'part', 'of', 'Heauen', 'Where', 'now', 'it', 'burnes', ',', 'Marcellus', 'and', 'my', 'selfe', ',', 'The', 'Bell', 'then', 'beating', 'one']\n",
      "['Mar', '.']\n",
      "['Peace', ',', 'breake', 'thee', 'of', ':', 'Enter', 'the', 'Ghost', '.']\n",
      "['Looke', 'where', 'it', 'comes', 'againe']\n",
      "['Barn', '.']\n",
      "['In', 'the', 'same', 'figure', ',', 'like', 'the', 'King', 'that', \"'\", 's', 'dead']\n",
      "['Mar', '.']\n",
      "['Thou', 'art', 'a', 'Scholler', ';', 'speake', 'to', 'it', 'Horatio']\n",
      "['Barn', '.']\n",
      "['Lookes', 'it', 'not', 'like', 'the', 'King', '?']\n",
      "['Marke', 'it', 'Horatio']\n",
      "['Hora', '.']\n",
      "['Most', 'like', ':', 'It', 'harrowes', 'me', 'with', 'fear', '&', 'wonder', 'Barn', '.']\n",
      "['It', 'would', 'be', 'spoke', 'too']\n",
      "['Mar', '.']\n",
      "['Question', 'it', 'Horatio']\n",
      "['Hor', '.']\n",
      "['What', 'art', 'thou', 'that', 'vsurp', \"'\", 'st', 'this', 'time', 'of', 'night', ',', 'Together', 'with', 'that', 'Faire', 'and', 'Warlike', 'forme', 'In', 'which', 'the', 'Maiesty', 'of', 'buried', 'Denmarke', 'Did', 'sometimes', 'march', ':', 'By', 'Heauen', 'I', 'charge', 'thee', 'speake']\n",
      "['Mar', '.']\n",
      "['It', 'is', 'offended']\n",
      "['Barn', '.']\n",
      "['See', ',', 'it', 'stalkes', 'away']\n",
      "['Hor', '.']\n",
      "['Stay', ':', 'speake', ';', 'speake', ':', 'I', 'Charge', 'thee', ',', 'speake', '.']\n",
      "['Exit', 'the', 'Ghost', '.']\n",
      "['Mar', '.']\n",
      "[\"'\", 'Tis', 'gone', ',', 'and', 'will', 'not', 'answer']\n",
      "['Barn', '.']\n",
      "['How', 'now', 'Horatio', '?']\n",
      "['You', 'tremble', '&', 'look', 'pale', ':', 'Is', 'not', 'this', 'something', 'more', 'then', 'Fantasie', '?']\n",
      "['What', 'thinke', 'you', 'on', \"'\", 't', '?']\n",
      "['Hor', '.']\n",
      "['Before', 'my', 'God', ',', 'I', 'might', 'not', 'this', 'beleeue', 'Without', 'the', 'sensible', 'and', 'true', 'auouch', 'Of', 'mine', 'owne', 'eyes']\n",
      "['Mar', '.']\n",
      "['Is', 'it', 'not', 'like', 'the', 'King', '?']\n",
      "['Hor', '.']\n",
      "['As', 'thou', 'art', 'to', 'thy', 'selfe', ',', 'Such', 'was', 'the', 'very', 'Armour', 'he', 'had', 'on', ',', 'When', 'th', \"'\", 'Ambitious', 'Norwey', 'combatted', ':', 'So', 'frown', \"'\", 'd', 'he', 'once', ',', 'when', 'in', 'an', 'angry', 'parle', 'He', 'smot', 'the', 'sledded', 'Pollax', 'on', 'the', 'Ice', '.']\n"
     ]
    }
   ],
   "source": [
    "for line in hamlet[:100]:\n",
    "    print(line)"
   ]
  },
  {
   "cell_type": "code",
   "execution_count": 20,
   "metadata": {
    "collapsed": true
   },
   "outputs": [],
   "source": [
    "from nltk.corpus import brown"
   ]
  },
  {
   "cell_type": "code",
   "execution_count": 21,
   "metadata": {},
   "outputs": [
    {
     "data": {
      "text/plain": [
       "['adventure',\n",
       " 'belles_lettres',\n",
       " 'editorial',\n",
       " 'fiction',\n",
       " 'government',\n",
       " 'hobbies',\n",
       " 'humor',\n",
       " 'learned',\n",
       " 'lore',\n",
       " 'mystery',\n",
       " 'news',\n",
       " 'religion',\n",
       " 'reviews',\n",
       " 'romance',\n",
       " 'science_fiction']"
      ]
     },
     "execution_count": 21,
     "metadata": {},
     "output_type": "execute_result"
    }
   ],
   "source": [
    "brown.categories()"
   ]
  },
  {
   "cell_type": "code",
   "execution_count": 26,
   "metadata": {},
   "outputs": [
    {
     "data": {
      "text/plain": [
       "['The', 'Fulton', 'County', 'Grand', 'Jury', 'said', ...]"
      ]
     },
     "execution_count": 26,
     "metadata": {},
     "output_type": "execute_result"
    }
   ],
   "source": [
    "brown.words(categories = 'news')"
   ]
  },
  {
   "cell_type": "code",
   "execution_count": 27,
   "metadata": {
    "collapsed": true
   },
   "outputs": [],
   "source": [
    "from nltk.corpus import wordnet as wn"
   ]
  },
  {
   "cell_type": "code",
   "execution_count": 28,
   "metadata": {},
   "outputs": [
    {
     "data": {
      "text/plain": [
       "[Synset('car.n.01')]"
      ]
     },
     "execution_count": 28,
     "metadata": {},
     "output_type": "execute_result"
    }
   ],
   "source": [
    "wn.synsets('motorcar')"
   ]
  },
  {
   "cell_type": "code",
   "execution_count": null,
   "metadata": {
    "collapsed": true
   },
   "outputs": [],
   "source": []
  }
 ],
 "metadata": {
  "kernelspec": {
   "display_name": "Python 3",
   "language": "python",
   "name": "python3"
  },
  "language_info": {
   "codemirror_mode": {
    "name": "ipython",
    "version": 3
   },
   "file_extension": ".py",
   "mimetype": "text/x-python",
   "name": "python",
   "nbconvert_exporter": "python",
   "pygments_lexer": "ipython3",
   "version": "3.6.1"
  }
 },
 "nbformat": 4,
 "nbformat_minor": 2
}
