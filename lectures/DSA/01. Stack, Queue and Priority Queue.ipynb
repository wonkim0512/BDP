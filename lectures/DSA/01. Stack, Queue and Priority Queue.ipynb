{
 "cells": [
  {
   "cell_type": "markdown",
   "metadata": {},
   "source": [
    "# Stack"
   ]
  },
  {
   "cell_type": "code",
   "execution_count": 1,
   "metadata": {},
   "outputs": [
    {
     "name": "stdout",
     "output_type": "stream",
     "text": [
      "Not empty!\n"
     ]
    },
    {
     "data": {
      "text/plain": [
       "1"
      ]
     },
     "execution_count": 1,
     "metadata": {},
     "output_type": "execute_result"
    }
   ],
   "source": [
    "class Stack(object):\n",
    "    def __init__(self):\n",
    "        self.item = []\n",
    "        \n",
    "    def put(self, value):\n",
    "        self.item.append(value)\n",
    "    \n",
    "    def get(self):\n",
    "        return self.item.pop()\n",
    "    \n",
    "    def isEmpty(self):\n",
    "        print(\"Yes, it is empty\" if self.item else \"Not empty!\")\n",
    "        \n",
    "    def peek(self):\n",
    "        return self.item[-1]\n",
    "    \n",
    "stack = Stack()\n",
    "stack.isEmpty()\n",
    "stack.put(1)\n",
    "stack.put(10)\n",
    "stack.get()\n",
    "stack.peek()"
   ]
  },
  {
   "cell_type": "code",
   "execution_count": 40,
   "metadata": {},
   "outputs": [
    {
     "name": "stdout",
     "output_type": "stream",
     "text": [
      "[0, 1, 2, 3, 4]\n",
      "4\n",
      "3\n",
      "2\n",
      "1\n",
      "0\n"
     ]
    }
   ],
   "source": [
    "import queue\n",
    "\n",
    "stack = queue.LifoQueue()\n",
    "for num in range(5):\n",
    "    stack.put(num)\n",
    "\n",
    "print(stack.queue)\n",
    "while not stack.empty():\n",
    "    print(stack.get())"
   ]
  },
  {
   "cell_type": "markdown",
   "metadata": {},
   "source": [
    "# Queue"
   ]
  },
  {
   "cell_type": "code",
   "execution_count": 60,
   "metadata": {},
   "outputs": [
    {
     "data": {
      "text/plain": [
       "[10]"
      ]
     },
     "execution_count": 60,
     "metadata": {},
     "output_type": "execute_result"
    }
   ],
   "source": [
    "class Queue(object):\n",
    "    def __init__(self):\n",
    "        self.item = []\n",
    "        \n",
    "    def put(self, value):\n",
    "        self.item.append(value)\n",
    "    \n",
    "    def get(self):\n",
    "        get = self.item[0]\n",
    "        del self.item[0]\n",
    "        return get\n",
    "        \n",
    "    def report(self):\n",
    "        return self.item\n",
    "\n",
    "    def size(self):\n",
    "        return len(self.item)\n",
    "\n",
    "queue = Queue()\n",
    "queue.put(5)\n",
    "queue.put(10)\n",
    "queue.get()\n",
    "queue.report()"
   ]
  },
  {
   "cell_type": "code",
   "execution_count": 37,
   "metadata": {
    "scrolled": true
   },
   "outputs": [
    {
     "name": "stdout",
     "output_type": "stream",
     "text": [
      "deque([0, 1, 2, 3, 4])\n",
      "0\n",
      "1\n",
      "2\n",
      "3\n",
      "4\n"
     ]
    }
   ],
   "source": [
    "import queue\n",
    "\n",
    "queue = queue.Queue()\n",
    "for num in range(5):\n",
    "    queue.put(num)\n",
    "\n",
    "print(queue.queue)\n",
    "while not queue.empty():\n",
    "    print(queue.get())"
   ]
  },
  {
   "cell_type": "markdown",
   "metadata": {},
   "source": [
    "# Priority Queue"
   ]
  },
  {
   "cell_type": "code",
   "execution_count": 58,
   "metadata": {},
   "outputs": [
    {
     "data": {
      "text/plain": [
       "[5, 10]"
      ]
     },
     "execution_count": 58,
     "metadata": {},
     "output_type": "execute_result"
    }
   ],
   "source": [
    "class PriorityQueue(object):\n",
    "    def __init__(self):\n",
    "        self.items = []\n",
    "        \n",
    "    def put(self, item):\n",
    "        self.items.append(item)\n",
    "        \n",
    "    def get(self):\n",
    "        return sorted(self.items)[0]\n",
    "    \n",
    "    def report(self):\n",
    "        return self.items\n",
    "    \n",
    "    def size(self):\n",
    "        return len(self.items)\n",
    "    \n",
    "    def empty(self):\n",
    "        return True if self.items else False\n",
    "    \n",
    "    \n",
    "pq = PriorityQueue()\n",
    "pq.put(5)\n",
    "pq.put(10)\n",
    "pq.get()\n",
    "pq.report()\n"
   ]
  },
  {
   "cell_type": "code",
   "execution_count": 55,
   "metadata": {},
   "outputs": [
    {
     "name": "stdout",
     "output_type": "stream",
     "text": [
      "[0, 2, 1, 3, 4, 12, 10, 13, 11, 14]\n",
      "0\n",
      "1\n",
      "2\n",
      "3\n",
      "4\n",
      "10\n",
      "11\n",
      "12\n",
      "13\n",
      "14\n"
     ]
    }
   ],
   "source": [
    "pq = queue.PriorityQueue()\n",
    "\n",
    "for num in range(10, 15):\n",
    "    pq.put(num)\n",
    "\n",
    "for num in range(5):\n",
    "    pq.put(num)\n",
    "    \n",
    "print(pq.queue) # priority!\n",
    "\n",
    "while not pq.empty():\n",
    "    print(pq.get())\n"
   ]
  }
 ],
 "metadata": {
  "kernelspec": {
   "display_name": "Python 3",
   "language": "python",
   "name": "python3"
  },
  "language_info": {
   "codemirror_mode": {
    "name": "ipython",
    "version": 3
   },
   "file_extension": ".py",
   "mimetype": "text/x-python",
   "name": "python",
   "nbconvert_exporter": "python",
   "pygments_lexer": "ipython3",
   "version": "3.6.1"
  }
 },
 "nbformat": 4,
 "nbformat_minor": 2
}
