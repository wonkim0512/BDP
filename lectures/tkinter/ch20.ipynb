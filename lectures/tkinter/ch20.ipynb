{
 "cells": [
  {
   "cell_type": "code",
   "execution_count": 1,
   "metadata": {
    "collapsed": true
   },
   "outputs": [],
   "source": [
    "from tkinter import *\n"
   ]
  },
  {
   "cell_type": "code",
   "execution_count": 2,
   "metadata": {},
   "outputs": [
    {
     "name": "stdout",
     "output_type": "stream",
     "text": [
      "bye!\n"
     ]
    }
   ],
   "source": [
    "# 1. empty canvas\n",
    "def draw(canvas, width, height):\n",
    "    pass\n",
    "\n",
    "def runDrawing(width = 300, height = 300):\n",
    "    root = Tk()\n",
    "    canvas = Canvas(root, width = width, height = height)\n",
    "    canvas.pack()\n",
    "    draw(canvas, width, height)\n",
    "    root.mainloop()\n",
    "    print(\"bye!\")\n",
    "\n",
    "runDrawing(400, 200)"
   ]
  },
  {
   "cell_type": "code",
   "execution_count": 3,
   "metadata": {},
   "outputs": [
    {
     "name": "stdout",
     "output_type": "stream",
     "text": [
      "bye!\n"
     ]
    }
   ],
   "source": [
    "# 2. draw a rectangle\n",
    "def draw(canvas, width, height):\n",
    "    canvas.create_rectangle(0, 0, 150, 150, fill = 'yellow')\n",
    "\n",
    "runDrawing(400, 200)"
   ]
  },
  {
   "cell_type": "code",
   "execution_count": 4,
   "metadata": {},
   "outputs": [
    {
     "name": "stdout",
     "output_type": "stream",
     "text": [
      "bye!\n"
     ]
    }
   ],
   "source": [
    "# 3. multiple rectangles\n",
    "\n",
    "def draw(canvas, width, height):\n",
    "    canvas.create_rectangle(0, 0, 150, 150, fill = 'yellow')\n",
    "    canvas.create_rectangle(100, 50, 250, 100, fill = \"orange\", width = 5)\n",
    "    canvas.create_rectangle(50, 100, 150, 200, fill = 'green', width = 7, outline = 'red')\n",
    "    \n",
    "runDrawing(400, 200)"
   ]
  },
  {
   "cell_type": "code",
   "execution_count": 5,
   "metadata": {},
   "outputs": [
    {
     "name": "stdout",
     "output_type": "stream",
     "text": [
      "bye!\n"
     ]
    }
   ],
   "source": [
    "# 4. centered rectagle\n",
    "\n",
    "def draw(canvas, width, height):\n",
    "    margin = 10\n",
    "    canvas.create_rectangle(margin, margin, width - margin, height - margin, fill = 'green')\n",
    "    cx, cy = width/2, height/2\n",
    "    rectWidth, rectHeight = width/4, height/4\n",
    "    canvas.create_rectangle(cx - rectWidth/2, cy - rectHeight/2, cx + rectWidth/2, cy + rectHeight/2, fill = 'orange')\n",
    "    \n",
    "runDrawing(600, 400)"
   ]
  },
  {
   "cell_type": "code",
   "execution_count": 6,
   "metadata": {},
   "outputs": [
    {
     "name": "stdout",
     "output_type": "stream",
     "text": [
      "bye!\n"
     ]
    }
   ],
   "source": [
    "# 5. custom colors\n",
    "\n",
    "def rgbString(red, green, blue):\n",
    "    return \"#%02x%02x%02x\" % (red, green, blue)\n",
    "\n",
    "def draw(canvas, width, height):\n",
    "    pistachio = rgbString(147, 197, 114)\n",
    "    maroon = rgbString(176, 48, 96)\n",
    "    canvas.create_rectangle(0, 0, width/2, height/2, fill = pistachio)\n",
    "    canvas.create_rectangle(width/2, height/2, width, height, fill = maroon)\n",
    "    \n",
    "runDrawing(600, 400)"
   ]
  },
  {
   "cell_type": "code",
   "execution_count": 7,
   "metadata": {},
   "outputs": [
    {
     "name": "stdout",
     "output_type": "stream",
     "text": [
      "bye!\n"
     ]
    }
   ],
   "source": [
    "# 6. other shapes and text\n",
    "\n",
    "def draw(canvas, width, height):\n",
    "    canvas.create_oval(100, 50, 300, 150, fill ='yellow')\n",
    "    canvas.create_polygon(100, 30, 200, 50, 300, 30, 200, 10, fill = 'green')\n",
    "    canvas.create_line(100, 50, 300, 150, fill = 'red', width = 5)\n",
    "    canvas.create_text(200, 100, text = 'Amazing', fill = 'purple', font = 'Helvetica 26 bold underline')\n",
    "    canvas.create_text(200, 100, text = \"carpe Diem!\", anchor = SW, fill = 'darkblue', font = \"Times 28 bold italic\")\n",
    "    \n",
    "runDrawing(600, 400)"
   ]
  },
  {
   "cell_type": "code",
   "execution_count": 8,
   "metadata": {},
   "outputs": [
    {
     "name": "stdout",
     "output_type": "stream",
     "text": [
      "bye!\n"
     ]
    }
   ],
   "source": [
    "# 7. tuples and list of tuples as parameters\n",
    "\n",
    "def draw(canvas, width, height):\n",
    "    canvas.create_oval((100, 50), (300, 150), fill ='yellow')\n",
    "    canvas.create_polygon([(100, 30), (200, 50), (300, 30), (200, 10)], fill = 'green')\n",
    "    canvas.create_line((100, 50), (300, 150), fill = 'red', width = 5)\n",
    "    canvas.create_text((200, 100), text = 'Amazing', fill = 'purple', font = 'Helvetica 26 bold underline')\n",
    "    canvas.create_text((200, 100), text = \"carpe Diem!\", anchor = SW, fill = 'darkblue', font = \"Times 28 bold italic\")\n",
    "    \n",
    "runDrawing(600, 400)"
   ]
  },
  {
   "cell_type": "code",
   "execution_count": 9,
   "metadata": {},
   "outputs": [
    {
     "name": "stdout",
     "output_type": "stream",
     "text": [
      "bye!\n"
     ]
    }
   ],
   "source": [
    "# 8. graphics helper functions\n",
    "\n",
    "def drawBelgianFlag(canvas, x0, y0, x1, y1):\n",
    "    width = (x1 - x0)\n",
    "    canvas.create_rectangle((x0, y0), (x0 + width/3, y1), fill = 'black', width = 0)\n",
    "    canvas.create_rectangle((x0 + width/3, y0), (x0 + width*2/3, y1), fill = 'yellow', width = 0)\n",
    "    canvas.create_rectangle((x0 + width*2/3, y0), (x1, y1), fill = 'red', width = 0)\n",
    "    \n",
    "def draw(canvas, width, height):\n",
    "    drawBelgianFlag(canvas, 25, 25, 175, 150)\n",
    "    drawBelgianFlag(canvas, 75, 160, 125, 200)\n",
    "    \n",
    "    flagWidth = 30\n",
    "    flagHeight = 25\n",
    "    margin = 5\n",
    "    for row in range(3):\n",
    "        for col in range(3):\n",
    "            left = 200 + col * flagWidth + margin\n",
    "            top = 50 + row * flagHeight + margin\n",
    "            right = left + flagWidth - margin\n",
    "            bottom = top + flagHeight - margin\n",
    "            drawBelgianFlag(canvas, left, top, right, bottom)\n",
    "    \n",
    "runDrawing(600, 400)"
   ]
  },
  {
   "cell_type": "code",
   "execution_count": 12,
   "metadata": {},
   "outputs": [
    {
     "name": "stdout",
     "output_type": "stream",
     "text": [
      "bye!\n"
     ]
    }
   ],
   "source": [
    "# 9. clock\n",
    "import math\n",
    "\n",
    "def draw(canvas, width, height):\n",
    "    cx, cy, r = width/2, height/2, min(width, height)/3\n",
    "    canvas.create_oval(cx - r, cy - r, cx + r, cy + r, fill = 'white')\n",
    "    r *= 0.85\n",
    "    \n",
    "    for hour in range(12):\n",
    "        hourAngle = math.pi/2 - (2*math.pi) * (hour/12)\n",
    "        hourX = cx + r*math.cos(hourAngle)\n",
    "        hourY = cy - r*math.sin(hourAngle)\n",
    "        label = str(hour if hour >0 else 12)\n",
    "        canvas.create_text(hourX, hourY, text = label, font = 'Arial 16 bold')\n",
    "        \n",
    "runDrawing(600, 400)"
   ]
  },
  {
   "cell_type": "code",
   "execution_count": 13,
   "metadata": {
    "collapsed": true
   },
   "outputs": [],
   "source": [
    "from tkinter import *\n",
    "\n",
    "canvas_width = 500\n",
    "canvas_height = 150\n",
    "\n",
    "\n",
    "def paint(event):\n",
    "    python_green = \"#476042\"\n",
    "    x1, y1 = (event.x - 1), (event.y - 1)\n",
    "    x2, y2 = (event.x + 1), (event.y + 1)\n",
    "    w.create_oval(x1, y1, x2, y2, fill=python_green)\n",
    "\n",
    "\n",
    "\n",
    "master = Tk()\n",
    "master.title(\"Points\")\n",
    "w = Canvas(master,\n",
    "           width=canvas_width,\n",
    "           height=canvas_height)\n",
    "w.pack(expand=YES, fill=BOTH)\n",
    "w.bind(\"<B1-Motion>\", paint)\n",
    "\n",
    "message = Label(master, text=\"Press and Drag the mouse to draw\")\n",
    "message.pack(side=BOTTOM)\n",
    "\n",
    "mainloop()"
   ]
  },
  {
   "cell_type": "code",
   "execution_count": 14,
   "metadata": {
    "collapsed": true
   },
   "outputs": [],
   "source": [
    "from tkinter import *\n",
    "\n",
    "root = Tk()\n",
    "frame = Frame(root)\n",
    "frame.pack()\n",
    "bottomframe = Frame(root)\n",
    "bottomframe.pack(side = BOTTOM)\n",
    "\n",
    "redbutton = Button(frame, text = \"Red\", fg = 'red') #fg: foregroud, bg: background\n",
    "redbutton.pack(side = LEFT)\n",
    "\n",
    "brownbutton = Button(frame, text = 'Brown', fg = 'brown')\n",
    "brownbutton.pack(side = LEFT)\n",
    "\n",
    "bluebutton = Button(frame, text = \"Blue\", fg = 'blue')\n",
    "bluebutton.pack(side = LEFT)\n",
    "\n",
    "blackbutton = Button(bottomframe,text = 'Black', fg = 'black', bg = \"white\")\n",
    "blackbutton.pack(side = BOTTOM)\n",
    "\n",
    "root.mainloop()"
   ]
  },
  {
   "cell_type": "code",
   "execution_count": 15,
   "metadata": {
    "collapsed": true
   },
   "outputs": [],
   "source": [
    "root = Tk()\n",
    "w = Label(root, text = \"Enter a name: \", height = 10)\n",
    "w.grid(row = 1, column = 1)\n",
    "tBox = Entry(root)\n",
    "tBox.grid(row = 1, column = 2, padx = 10)\n",
    "root.mainloop()"
   ]
  },
  {
   "cell_type": "code",
   "execution_count": 16,
   "metadata": {},
   "outputs": [
    {
     "name": "stdout",
     "output_type": "stream",
     "text": [
      "Single click, hi!\n",
      "Single click, hi!\n",
      "Single click, hi!\n",
      "Double click, good bye!\n"
     ]
    }
   ],
   "source": [
    "from tkinter import *\n",
    "root = Tk()\n",
    "\n",
    "def hello(event):\n",
    "    print(\"Single click, hi!\")\n",
    "    \n",
    "def bye(event):\n",
    "    print(\"Double click, good bye!\")\n",
    "    root.destroy()\n",
    "    \n",
    "wbutton = Button(root, text = \"Mouse clicks\")\n",
    "wbutton.pack()\n",
    "\n",
    "wbutton.bind('<Button-1>', hello)\n",
    "wbutton.bind('<Double-Button-1>', bye)\n",
    "\n",
    "root.mainloop()"
   ]
  },
  {
   "cell_type": "code",
   "execution_count": null,
   "metadata": {
    "collapsed": true
   },
   "outputs": [],
   "source": []
  }
 ],
 "metadata": {
  "kernelspec": {
   "display_name": "Python 3",
   "language": "python",
   "name": "python3"
  },
  "language_info": {
   "codemirror_mode": {
    "name": "ipython",
    "version": 3
   },
   "file_extension": ".py",
   "mimetype": "text/x-python",
   "name": "python",
   "nbconvert_exporter": "python",
   "pygments_lexer": "ipython3",
   "version": "3.6.1"
  }
 },
 "nbformat": 4,
 "nbformat_minor": 2
}
