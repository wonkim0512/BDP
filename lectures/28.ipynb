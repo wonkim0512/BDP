{
 "cells": [
  {
   "cell_type": "code",
   "execution_count": 1,
   "metadata": {
    "collapsed": true
   },
   "outputs": [],
   "source": [
    "import os\n",
    "import sys\n",
    "import glob"
   ]
  },
  {
   "cell_type": "code",
   "execution_count": 2,
   "metadata": {},
   "outputs": [
    {
     "data": {
      "text/plain": [
       "<module 'posixpath' from '/home/snu/anaconda3/lib/python3.6/posixpath.py'>"
      ]
     },
     "execution_count": 2,
     "metadata": {},
     "output_type": "execute_result"
    }
   ],
   "source": [
    "os.path"
   ]
  },
  {
   "cell_type": "code",
   "execution_count": 4,
   "metadata": {},
   "outputs": [
    {
     "data": {
      "text/plain": [
       "'/home/snu'"
      ]
     },
     "execution_count": 4,
     "metadata": {},
     "output_type": "execute_result"
    }
   ],
   "source": [
    "os.environ[\"HOME\"]"
   ]
  },
  {
   "cell_type": "code",
   "execution_count": 6,
   "metadata": {},
   "outputs": [
    {
     "data": {
      "text/plain": [
       "'/home/snu/BD/BDP/lectures'"
      ]
     },
     "execution_count": 6,
     "metadata": {},
     "output_type": "execute_result"
    }
   ],
   "source": [
    "os.getcwd()"
   ]
  },
  {
   "cell_type": "code",
   "execution_count": 9,
   "metadata": {},
   "outputs": [
    {
     "data": {
      "text/plain": [
       "['HW25.py',\n",
       " '10.py',\n",
       " '10B.py',\n",
       " '17.py',\n",
       " 'HW25',\n",
       " 'sophisitication_10AB.py',\n",
       " 'tkinter',\n",
       " '9.py',\n",
       " 'new',\n",
       " '__pycache__',\n",
       " '25more.py',\n",
       " 'HW26.py',\n",
       " '14-A_sol.py',\n",
       " '30.ipynb',\n",
       " 'G.gv.pdf',\n",
       " 'sophistication_10B.py',\n",
       " '23.py',\n",
       " '15B.py',\n",
       " '25test.py',\n",
       " '10A.py',\n",
       " '.ipynb_checkpoints',\n",
       " '30.py',\n",
       " 'Untitled.ipynb',\n",
       " 'argv.py',\n",
       " '28.py',\n",
       " 'G.gv',\n",
       " '25.py',\n",
       " '22.ipynb',\n",
       " '15C.py',\n",
       " '20.ipynb',\n",
       " '15A.py',\n",
       " 'module.py',\n",
       " 'pandas tutorial.ipynb',\n",
       " 'DSA',\n",
       " '8.py',\n",
       " '22.py',\n",
       " '31.ipynb',\n",
       " 'sophistication_10A.py',\n",
       " 'asd.py',\n",
       " 'test_output',\n",
       " '.idea',\n",
       " '28.ipynb',\n",
       " '15E.py']"
      ]
     },
     "execution_count": 9,
     "metadata": {},
     "output_type": "execute_result"
    }
   ],
   "source": [
    "os.listdir() #current dir"
   ]
  },
  {
   "cell_type": "code",
   "execution_count": 11,
   "metadata": {},
   "outputs": [
    {
     "data": {
      "text/plain": [
       "['27tkinter_mj.zip',\n",
       " 'UISwon',\n",
       " 'tk',\n",
       " 'week4',\n",
       " 'recursion_practice.py',\n",
       " 'week2',\n",
       " 'lectures',\n",
       " 'week5',\n",
       " 'pi.txt',\n",
       " '.ipynb_checkpoints',\n",
       " 'csv_practice.csv',\n",
       " 'HW10. Numpy',\n",
       " 'Syllabus.pdf',\n",
       " 'HW9. OS, sys',\n",
       " 'week3',\n",
       " 'mysql_practice.sql',\n",
       " 'exam_practice.py',\n",
       " 'team1',\n",
       " '시험연습.docx',\n",
       " '(15-C) OOP BST Practice..pdf',\n",
       " '(14-B) More Programming Practices2  7pp.pdf',\n",
       " 'week7',\n",
       " '27tkinter_mj',\n",
       " 'sorting.pptx',\n",
       " 'hw1_recursion.py',\n",
       " 'OOP BST Practice with solution.pdf',\n",
       " 'asd.py',\n",
       " 'week6',\n",
       " 'text.txt',\n",
       " '.idea',\n",
       " '게임과제.zip']"
      ]
     },
     "execution_count": 11,
     "metadata": {},
     "output_type": "execute_result"
    }
   ],
   "source": [
    "os.listdir('..') #parent directory"
   ]
  },
  {
   "cell_type": "code",
   "execution_count": 16,
   "metadata": {},
   "outputs": [
    {
     "data": {
      "text/plain": [
       "'/home/snu/BD/BDP/lectures'"
      ]
     },
     "execution_count": 16,
     "metadata": {},
     "output_type": "execute_result"
    }
   ],
   "source": [
    "os.getcwd()"
   ]
  },
  {
   "cell_type": "code",
   "execution_count": 17,
   "metadata": {},
   "outputs": [
    {
     "data": {
      "text/plain": [
       "['/home/snu/BD/BDP/lectures/HW25.py',\n",
       " '/home/snu/BD/BDP/lectures/10.py',\n",
       " '/home/snu/BD/BDP/lectures/10B.py',\n",
       " '/home/snu/BD/BDP/lectures/17.py',\n",
       " '/home/snu/BD/BDP/lectures/sophisitication_10AB.py',\n",
       " '/home/snu/BD/BDP/lectures/9.py',\n",
       " '/home/snu/BD/BDP/lectures/25more.py',\n",
       " '/home/snu/BD/BDP/lectures/HW26.py',\n",
       " '/home/snu/BD/BDP/lectures/14-A_sol.py',\n",
       " '/home/snu/BD/BDP/lectures/sophistication_10B.py',\n",
       " '/home/snu/BD/BDP/lectures/23.py',\n",
       " '/home/snu/BD/BDP/lectures/15B.py',\n",
       " '/home/snu/BD/BDP/lectures/25test.py',\n",
       " '/home/snu/BD/BDP/lectures/10A.py',\n",
       " '/home/snu/BD/BDP/lectures/30.py',\n",
       " '/home/snu/BD/BDP/lectures/argv.py',\n",
       " '/home/snu/BD/BDP/lectures/28.py',\n",
       " '/home/snu/BD/BDP/lectures/25.py',\n",
       " '/home/snu/BD/BDP/lectures/15C.py',\n",
       " '/home/snu/BD/BDP/lectures/15A.py',\n",
       " '/home/snu/BD/BDP/lectures/module.py',\n",
       " '/home/snu/BD/BDP/lectures/8.py',\n",
       " '/home/snu/BD/BDP/lectures/22.py',\n",
       " '/home/snu/BD/BDP/lectures/sophistication_10A.py',\n",
       " '/home/snu/BD/BDP/lectures/asd.py',\n",
       " '/home/snu/BD/BDP/lectures/15E.py']"
      ]
     },
     "execution_count": 17,
     "metadata": {},
     "output_type": "execute_result"
    }
   ],
   "source": [
    "glob.glob(os.getcwd()+\"/*.py\")"
   ]
  },
  {
   "cell_type": "code",
   "execution_count": 21,
   "metadata": {
    "scrolled": true
   },
   "outputs": [
    {
     "data": {
      "text/plain": [
       "['27tkinter_mj.zip',\n",
       " 'UISwon',\n",
       " 'tk',\n",
       " 'week4',\n",
       " 'recursion_practice.py',\n",
       " 'week2',\n",
       " 'lectures',\n",
       " 'week5',\n",
       " 'pi.txt',\n",
       " '.ipynb_checkpoints',\n",
       " 'csv_practice.csv',\n",
       " 'HW10. Numpy',\n",
       " 'Syllabus.pdf',\n",
       " 'HW9. OS, sys',\n",
       " 'week3',\n",
       " 'mysql_practice.sql',\n",
       " 'exam_practice.py',\n",
       " 'team1',\n",
       " '시험연습.docx',\n",
       " '(15-C) OOP BST Practice..pdf',\n",
       " '(14-B) More Programming Practices2  7pp.pdf',\n",
       " 'week7',\n",
       " '27tkinter_mj',\n",
       " 'sorting.pptx',\n",
       " 'hw1_recursion.py',\n",
       " 'OOP BST Practice with solution.pdf',\n",
       " 'asd.py',\n",
       " 'week6',\n",
       " 'text.txt',\n",
       " '.idea',\n",
       " '게임과제.zip']"
      ]
     },
     "execution_count": 21,
     "metadata": {},
     "output_type": "execute_result"
    }
   ],
   "source": [
    "os.listdir('..')"
   ]
  },
  {
   "cell_type": "code",
   "execution_count": 23,
   "metadata": {},
   "outputs": [
    {
     "data": {
      "text/plain": [
       "['HW25.py',\n",
       " '10.py',\n",
       " '10B.py',\n",
       " '17.py',\n",
       " 'HW25',\n",
       " 'sophisitication_10AB.py',\n",
       " 'tkinter',\n",
       " '9.py',\n",
       " 'new',\n",
       " '__pycache__',\n",
       " '25more.py',\n",
       " 'HW26.py',\n",
       " '14-A_sol.py',\n",
       " '30.ipynb',\n",
       " 'G.gv.pdf',\n",
       " 'sophistication_10B.py',\n",
       " '23.py',\n",
       " '15B.py',\n",
       " '25test.py',\n",
       " '10A.py',\n",
       " '.ipynb_checkpoints',\n",
       " '30.py',\n",
       " 'Untitled.ipynb',\n",
       " 'argv.py',\n",
       " '28.py',\n",
       " 'G.gv',\n",
       " '25.py',\n",
       " '22.ipynb',\n",
       " '15C.py',\n",
       " '20.ipynb',\n",
       " '15A.py',\n",
       " 'module.py',\n",
       " 'pandas tutorial.ipynb',\n",
       " 'DSA',\n",
       " '8.py',\n",
       " '22.py',\n",
       " '31.ipynb',\n",
       " 'sophistication_10A.py',\n",
       " 'asd.py',\n",
       " 'test_output',\n",
       " '.idea',\n",
       " '28.ipynb',\n",
       " '15E.py']"
      ]
     },
     "execution_count": 23,
     "metadata": {},
     "output_type": "execute_result"
    }
   ],
   "source": [
    "os.listdir()"
   ]
  },
  {
   "cell_type": "code",
   "execution_count": 32,
   "metadata": {},
   "outputs": [
    {
     "name": "stdout",
     "output_type": "stream",
     "text": [
      "/home/snu/BD/BDP/lectures/tkinter/20more.py\n",
      "/home/snu/BD/BDP/lectures/tkinter/new20.py\n"
     ]
    }
   ],
   "source": [
    "it = glob.iglob(os.getcwd()+\"/**/*.py\")\n",
    "print(next(it))\n",
    "print(next(it))"
   ]
  },
  {
   "cell_type": "code",
   "execution_count": 36,
   "metadata": {},
   "outputs": [
    {
     "name": "stdout",
     "output_type": "stream",
     "text": [
      "(14-B) More Programming Practices2  7pp.pdf  pi.txt\r\n",
      "(15-C) OOP BST Practice..pdf                 recursion_practice.py\r\n",
      "\u001b[0m\u001b[01;34m27tkinter_mj\u001b[0m/                                sorting.pptx\r\n",
      "\u001b[01;31m27tkinter_mj.zip\u001b[0m                             \u001b[01;34mteam1\u001b[0m/\r\n",
      "\u001b[01;34mHW10. Numpy\u001b[0m/                                 text.txt\r\n",
      "\u001b[01;34mHW9. OS, sys\u001b[0m/                                \u001b[01;34mtk\u001b[0m/\r\n",
      "OOP BST Practice with solution.pdf           \u001b[01;34mweek2\u001b[0m/\r\n",
      "Syllabus.pdf                                 \u001b[01;34mweek3\u001b[0m/\r\n",
      "\u001b[01;34mUISwon\u001b[0m/                                      \u001b[01;34mweek4\u001b[0m/\r\n",
      "asd.py                                       \u001b[01;34mweek5\u001b[0m/\r\n",
      "csv_practice.csv                             \u001b[01;34mweek6\u001b[0m/\r\n",
      "exam_practice.py                             \u001b[01;34mweek7\u001b[0m/\r\n",
      "hw1_recursion.py                             \u001b[01;31m게임과제.zip\u001b[0m\r\n",
      "\u001b[01;34mlectures\u001b[0m/                                    시험연습.docx\r\n",
      "mysql_practice.sql\r\n"
     ]
    }
   ],
   "source": [
    "%ls"
   ]
  },
  {
   "cell_type": "code",
   "execution_count": 37,
   "metadata": {},
   "outputs": [
    {
     "name": "stdout",
     "output_type": "stream",
     "text": [
      "/home/snu/BD\n"
     ]
    }
   ],
   "source": [
    "%cd .."
   ]
  },
  {
   "cell_type": "code",
   "execution_count": 38,
   "metadata": {},
   "outputs": [
    {
     "name": "stdout",
     "output_type": "stream",
     "text": [
      "/home/snu/BD/BDM\n"
     ]
    }
   ],
   "source": [
    "%cd BDM"
   ]
  },
  {
   "cell_type": "code",
   "execution_count": null,
   "metadata": {
    "collapsed": true
   },
   "outputs": [],
   "source": []
  }
 ],
 "metadata": {
  "kernelspec": {
   "display_name": "Python 3",
   "language": "python",
   "name": "python3"
  },
  "language_info": {
   "codemirror_mode": {
    "name": "ipython",
    "version": 3
   },
   "file_extension": ".py",
   "mimetype": "text/x-python",
   "name": "python",
   "nbconvert_exporter": "python",
   "pygments_lexer": "ipython3",
   "version": "3.6.1"
  }
 },
 "nbformat": 4,
 "nbformat_minor": 2
}
